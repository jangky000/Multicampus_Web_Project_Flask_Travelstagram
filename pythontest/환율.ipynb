{
 "cells": [
  {
   "cell_type": "code",
   "execution_count": 37,
   "metadata": {},
   "outputs": [],
   "source": [
    "import pandas as pd\n",
    "import numpy as np\n",
    "import matplotlib.pyplot as plt\n",
    "import matplotlib\n",
    "import openpyxl"
   ]
  },
  {
   "cell_type": "code",
   "execution_count": 38,
   "metadata": {},
   "outputs": [],
   "source": [
    "df = pd.read_excel('users/student/money.xlsx')"
   ]
  },
  {
   "cell_type": "code",
   "execution_count": 46,
   "metadata": {},
   "outputs": [
    {
     "data": {
      "text/plain": [
       "2019-01-01    1132.21\n",
       "2019-01-02    1138.71\n",
       "2019-01-03    1146.78\n",
       "2019-01-04    1144.79\n",
       "2019-01-05    1144.79\n",
       "2019-01-06    1144.79\n",
       "2019-01-07    1137.64\n",
       "2019-01-08    1141.72\n",
       "2019-01-09    1141.38\n",
       "2019-01-10    1138.82\n",
       "2019-01-11    1137.38\n",
       "2019-01-12    1137.38\n",
       "2019-01-13    1137.38\n",
       "2019-01-14    1141.08\n",
       "2019-01-15    1139.88\n",
       "2019-01-16    1141.66\n",
       "2019-01-17    1141.02\n",
       "2019-01-18    1141.02\n",
       "2019-01-19    1141.02\n",
       "2019-01-20    1141.02\n",
       "2019-01-21    1145.75\n",
       "2019-01-22    1149.93\n",
       "2019-01-23    1148.12\n",
       "2019-01-24    1147.62\n",
       "2019-01-25    1144.82\n",
       "2019-01-26    1144.82\n",
       "2019-01-27    1144.82\n",
       "Name: USA, dtype: float64"
      ]
     },
     "execution_count": 46,
     "metadata": {},
     "output_type": "execute_result"
    }
   ],
   "source": [
    "df1 = df['USA']\n",
    "df2 = df['UR']\n",
    "df3 = df['JP']\n",
    "df4 = df['CH']\n",
    "df5 = df['UK']\n",
    "df1"
   ]
  },
  {
   "cell_type": "code",
   "execution_count": 47,
   "metadata": {},
   "outputs": [
    {
     "data": {
      "text/plain": [
       "1144.82"
      ]
     },
     "execution_count": 47,
     "metadata": {},
     "output_type": "execute_result"
    }
   ],
   "source": [
    "a = df1.iloc[-1]\n",
    "b = df2.iloc[-1]\n",
    "c = df3.iloc[-1]\n",
    "d = df4.iloc[-1]\n",
    "e = df5.iloc[-1]\n",
    "a\n"
   ]
  },
  {
   "cell_type": "code",
   "execution_count": 48,
   "metadata": {},
   "outputs": [
    {
     "data": {
      "text/plain": [
       "2019-01-01         NaN\n",
       "2019-01-02    1135.460\n",
       "2019-01-03    1142.745\n",
       "2019-01-04    1145.785\n",
       "2019-01-05    1144.790\n",
       "2019-01-06    1144.790\n",
       "2019-01-07    1141.215\n",
       "2019-01-08    1139.680\n",
       "2019-01-09    1141.550\n",
       "2019-01-10    1140.100\n",
       "2019-01-11    1138.100\n",
       "2019-01-12    1137.380\n",
       "2019-01-13    1137.380\n",
       "2019-01-14    1139.230\n",
       "2019-01-15    1140.480\n",
       "2019-01-16    1140.770\n",
       "2019-01-17    1141.340\n",
       "2019-01-18    1141.020\n",
       "2019-01-19    1141.020\n",
       "2019-01-20    1141.020\n",
       "2019-01-21    1143.385\n",
       "2019-01-22    1147.840\n",
       "2019-01-23    1149.025\n",
       "2019-01-24    1147.870\n",
       "2019-01-25    1146.220\n",
       "2019-01-26    1144.820\n",
       "2019-01-27    1144.820\n",
       "Name: USA, dtype: float64"
      ]
     },
     "execution_count": 48,
     "metadata": {},
     "output_type": "execute_result"
    }
   ],
   "source": [
    "ma2 = df1.rolling(window=2).mean()\n",
    "mb2 = df2.rolling(window=2).mean()\n",
    "mc2 = df3.rolling(window=2).mean()\n",
    "md2 = df4.rolling(window=2).mean()\n",
    "me2 = df5.rolling(window=2).mean()\n",
    "ma2"
   ]
  },
  {
   "cell_type": "code",
   "execution_count": 49,
   "metadata": {},
   "outputs": [
    {
     "data": {
      "text/plain": [
       "1144.8199999999997"
      ]
     },
     "execution_count": 49,
     "metadata": {},
     "output_type": "execute_result"
    }
   ],
   "source": [
    "mac2 = ma2.iloc[-1]\n",
    "mbc2 = mb2.iloc[-1]\n",
    "mcc2 = mc2.iloc[-1]\n",
    "mdc2 = md2.iloc[-1]\n",
    "mec2 = me2.iloc[-1]\n",
    "mac2"
   ]
  },
  {
   "cell_type": "code",
   "execution_count": 50,
   "metadata": {},
   "outputs": [
    {
     "data": {
      "text/plain": [
       "2019-01-01         NaN\n",
       "2019-01-02         NaN\n",
       "2019-01-03         NaN\n",
       "2019-01-04         NaN\n",
       "2019-01-05         NaN\n",
       "2019-01-06         NaN\n",
       "2019-01-07         NaN\n",
       "2019-01-08         NaN\n",
       "2019-01-09         NaN\n",
       "2019-01-10    1141.163\n",
       "2019-01-11    1141.680\n",
       "2019-01-12    1141.547\n",
       "2019-01-13    1140.607\n",
       "2019-01-14    1140.236\n",
       "2019-01-15    1139.745\n",
       "2019-01-16    1139.432\n",
       "2019-01-17    1139.770\n",
       "2019-01-18    1139.700\n",
       "2019-01-19    1139.664\n",
       "2019-01-20    1139.884\n",
       "2019-01-21    1140.721\n",
       "2019-01-22    1141.976\n",
       "2019-01-23    1143.050\n",
       "2019-01-24    1143.704\n",
       "2019-01-25    1144.198\n",
       "2019-01-26    1144.514\n",
       "2019-01-27    1144.894\n",
       "Name: USA, dtype: float64"
      ]
     },
     "execution_count": 50,
     "metadata": {},
     "output_type": "execute_result"
    }
   ],
   "source": [
    "ma10 = df1.rolling(window=10).mean()\n",
    "mb10 = df2.rolling(window=10).mean()\n",
    "mc10 = df3.rolling(window=10).mean()\n",
    "md10 = df4.rolling(window=10).mean()\n",
    "me10 = df5.rolling(window=10).mean()\n",
    "ma10"
   ]
  },
  {
   "cell_type": "code",
   "execution_count": 52,
   "metadata": {},
   "outputs": [
    {
     "data": {
      "text/plain": [
       "numpy.float64"
      ]
     },
     "execution_count": 52,
     "metadata": {},
     "output_type": "execute_result"
    }
   ],
   "source": [
    "mac10 = ma10.iloc[-1]\n",
    "mbc10 = mb10.iloc[-1]\n",
    "mcc10 = mc10.iloc[-1]\n",
    "mdc10 = md10.iloc[-1]\n",
    "mec10 = me10.iloc[-1]\n",
    "mac10"
   ]
  },
  {
   "cell_type": "code",
   "execution_count": 57,
   "metadata": {},
   "outputs": [
    {
     "name": "stdout",
     "output_type": "stream",
     "text": [
      "0.0370 만큼 오를것으로 예상되니까 환전지금하세용\n"
     ]
    }
   ],
   "source": [
    "if (mac2+mac10)/2 >= a :\n",
    "    print('%0.4f 만큼 오를것으로 예상되니까 환전지금하세용'%((mac2+mac10)/2-a))\n",
    "else :\n",
    "    print('%0.4f 만큼 떨어질것으로 예상되니까 나중에 하세용'%(a-(mac2+mac10)/2 ))"
   ]
  },
  {
   "cell_type": "code",
   "execution_count": null,
   "metadata": {},
   "outputs": [],
   "source": []
  },
  {
   "cell_type": "code",
   "execution_count": null,
   "metadata": {},
   "outputs": [],
   "source": []
  }
 ],
 "metadata": {
  "kernelspec": {
   "display_name": "Python 3",
   "language": "python",
   "name": "python3"
  },
  "language_info": {
   "codemirror_mode": {
    "name": "ipython",
    "version": 3
   },
   "file_extension": ".py",
   "mimetype": "text/x-python",
   "name": "python",
   "nbconvert_exporter": "python",
   "pygments_lexer": "ipython3",
   "version": "3.7.1"
  }
 },
 "nbformat": 4,
 "nbformat_minor": 2
}
