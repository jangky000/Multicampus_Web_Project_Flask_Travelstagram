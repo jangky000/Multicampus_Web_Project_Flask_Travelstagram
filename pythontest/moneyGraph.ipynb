{
 "cells": [
  {
   "cell_type": "code",
   "execution_count": 46,
   "metadata": {},
   "outputs": [],
   "source": [
    "from bs4 import BeautifulSoup\n",
    "import urllib.request as req\n",
    "import pandas as pd\n",
    "import numpy as np\n",
    "import matplotlib.pyplot as plt\n",
    "import matplotlib\n"
   ]
  },
  {
   "cell_type": "code",
   "execution_count": 19,
   "metadata": {},
   "outputs": [],
   "source": [
    "import openpyxl"
   ]
  },
  {
   "cell_type": "code",
   "execution_count": 36,
   "metadata": {},
   "outputs": [],
   "source": [
    "df = pd.read_excel('users/student/money.xlsx')"
   ]
  },
  {
   "cell_type": "code",
   "execution_count": 73,
   "metadata": {
    "scrolled": true
   },
   "outputs": [
    {
     "data": {
      "text/plain": [
       "1144.82"
      ]
     },
     "execution_count": 73,
     "metadata": {},
     "output_type": "execute_result"
    }
   ],
   "source": [
    "df1 = df['USA']\n",
    "m1 = df1.iloc[-1]\n",
    "m1"
   ]
  },
  {
   "cell_type": "code",
   "execution_count": 38,
   "metadata": {
    "scrolled": true
   },
   "outputs": [],
   "source": [
    "ma2 = df['USA'].rolling(window=2).mean()"
   ]
  },
  {
   "cell_type": "code",
   "execution_count": 72,
   "metadata": {},
   "outputs": [
    {
     "data": {
      "text/plain": [
       "1144.8199999999997"
      ]
     },
     "execution_count": 72,
     "metadata": {},
     "output_type": "execute_result"
    }
   ],
   "source": [
    "ma2\n",
    "m2 = ma2.iloc[-1]\n",
    "m2"
   ]
  },
  {
   "cell_type": "code",
   "execution_count": 60,
   "metadata": {},
   "outputs": [],
   "source": [
    "ma2.to_excel('미국1.xlsx')"
   ]
  },
  {
   "cell_type": "code",
   "execution_count": 61,
   "metadata": {},
   "outputs": [],
   "source": [
    "ma10 = df['USA'].rolling(window=10).mean()"
   ]
  },
  {
   "cell_type": "code",
   "execution_count": 64,
   "metadata": {
    "scrolled": true
   },
   "outputs": [
    {
     "name": "stdout",
     "output_type": "stream",
     "text": [
      "2019-01-01         NaN\n",
      "2019-01-02         NaN\n",
      "2019-01-03         NaN\n",
      "2019-01-04         NaN\n",
      "2019-01-05         NaN\n",
      "2019-01-06         NaN\n",
      "2019-01-07         NaN\n",
      "2019-01-08         NaN\n",
      "2019-01-09         NaN\n",
      "2019-01-10    1141.163\n",
      "2019-01-11    1141.680\n",
      "2019-01-12    1141.547\n",
      "2019-01-13    1140.607\n",
      "2019-01-14    1140.236\n",
      "2019-01-15    1139.745\n",
      "2019-01-16    1139.432\n",
      "2019-01-17    1139.770\n",
      "2019-01-18    1139.700\n",
      "2019-01-19    1139.664\n",
      "2019-01-20    1139.884\n",
      "2019-01-21    1140.721\n",
      "2019-01-22    1141.976\n",
      "2019-01-23    1143.050\n",
      "2019-01-24    1143.704\n",
      "2019-01-25    1144.198\n",
      "2019-01-26    1144.514\n",
      "2019-01-27    1144.894\n",
      "Name: USA, dtype: float64\n"
     ]
    }
   ],
   "source": [
    "print(ma10)\n",
    "m3 = ma10.iloc[-1]"
   ]
  },
  {
   "cell_type": "code",
   "execution_count": 77,
   "metadata": {},
   "outputs": [
    {
     "name": "stdout",
     "output_type": "stream",
     "text": [
      "0.0370 만큼 오를것으로 예상되니까 환전지금하세용\n"
     ]
    }
   ],
   "source": [
    "if (m2+m3)/2 >= m1 :\n",
    "    print('%0.4f 만큼 오를것으로 예상되니까 환전지금하세용'%((m2+m3)/2 - m1))\n",
    "else :\n",
    "    print('%0.4f 만큼 떨어질것으로 예상되니까 나중에 하세용'%m1 - (m2+m3)/2 )"
   ]
  },
  {
   "cell_type": "code",
   "execution_count": null,
   "metadata": {},
   "outputs": [],
   "source": []
  },
  {
   "cell_type": "code",
   "execution_count": 51,
   "metadata": {},
   "outputs": [],
   "source": [
    "ma10.to_excel('미국2.xlsx')"
   ]
  },
  {
   "cell_type": "code",
   "execution_count": 47,
   "metadata": {},
   "outputs": [
    {
     "data": {
      "text/plain": [
       "[<matplotlib.lines.Line2D at 0x9217390>]"
      ]
     },
     "execution_count": 47,
     "metadata": {},
     "output_type": "execute_result"
    },
    {
     "data": {
      "image/png": "[encoded data removed]",
      "text/plain": [
       "<Figure size 432x288 with 1 Axes>"
      ]
     },
     "metadata": {
      "needs_background": "light"
     },
     "output_type": "display_data"
    }
   ],
   "source": [
    "plt.plot(df.index,df['USA'],label='USA')"
   ]
  },
  {
   "cell_type": "code",
   "execution_count": null,
   "metadata": {},
   "outputs": [],
   "source": []
  }
 ],
 "metadata": {
  "kernelspec": {
   "display_name": "Python 3",
   "language": "python",
   "name": "python3"
  },
  "language_info": {
   "codemirror_mode": {
    "name": "ipython",
    "version": 3
   },
   "file_extension": ".py",
   "mimetype": "text/x-python",
   "name": "python",
   "nbconvert_exporter": "python",
   "pygments_lexer": "ipython3",
   "version": "3.7.1"
  }
 },
 "nbformat": 4,
 "nbformat_minor": 2
}
