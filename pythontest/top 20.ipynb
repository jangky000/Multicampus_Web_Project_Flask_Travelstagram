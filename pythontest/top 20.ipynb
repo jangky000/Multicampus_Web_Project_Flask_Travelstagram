{
 "cells": [
  {
   "cell_type": "code",
   "execution_count": 64,
   "metadata": {},
   "outputs": [],
   "source": [
    "import pandas as pd\n",
    "import numpy as np\n"
   ]
  },
  {
   "cell_type": "code",
   "execution_count": 83,
   "metadata": {},
   "outputs": [
    {
     "data": {
      "text/html": [
       "<div>\n",
       "<style scoped>\n",
       "    .dataframe tbody tr th:only-of-type {\n",
       "        vertical-align: middle;\n",
       "    }\n",
       "\n",
       "    .dataframe tbody tr th {\n",
       "        vertical-align: top;\n",
       "    }\n",
       "\n",
       "    .dataframe thead th {\n",
       "        text-align: right;\n",
       "    }\n",
       "</style>\n",
       "<table border=\"1\" class=\"dataframe\">\n",
       "  <thead>\n",
       "    <tr style=\"text-align: right;\">\n",
       "      <th></th>\n",
       "      <th>국가</th>\n",
       "      <th>게시글</th>\n",
       "      <th>2</th>\n",
       "    </tr>\n",
       "  </thead>\n",
       "  <tbody>\n",
       "    <tr>\n",
       "      <th>0</th>\n",
       "      <td>아프가니스탄</td>\n",
       "      <td>1095</td>\n",
       "      <td>#외국생활|#재외국민|#향수병|#극복|#대한민국|#미국|#영국|#프랑스|#호주|#독...</td>\n",
       "    </tr>\n",
       "    <tr>\n",
       "      <th>1</th>\n",
       "      <td>알제리</td>\n",
       "      <td>7874</td>\n",
       "      <td>#여행하면좋은것|#알제리|#알제|#노트르담성당가는길|#지중해|#여행|#여행에미치다|...</td>\n",
       "    </tr>\n",
       "    <tr>\n",
       "      <th>2</th>\n",
       "      <td>안도라</td>\n",
       "      <td>758</td>\n",
       "      <td>#피레네산맥|#안도라|#스페인여행|#이서윤0814|#딸바보|#딸스타그램|#육아휴직|...</td>\n",
       "    </tr>\n",
       "    <tr>\n",
       "      <th>3</th>\n",
       "      <td>앙골라</td>\n",
       "      <td>1065</td>\n",
       "      <td>#한국|#앙골라|#포르투갈|#코리안컵|#추첨선물|#우산|#골프공|#주말은대회|#즐겁...</td>\n",
       "    </tr>\n",
       "    <tr>\n",
       "      <th>4</th>\n",
       "      <td>앤티가바부다</td>\n",
       "      <td>15</td>\n",
       "      <td>#카리브해|#앤티가바부다|#해변도시|#세인트존스|#모티브|#앤티가바부다|#너무사랑함...</td>\n",
       "    </tr>\n",
       "  </tbody>\n",
       "</table>\n",
       "</div>"
      ],
      "text/plain": [
       "       국가   게시글                                                  2\n",
       "0  아프가니스탄  1095  #외국생활|#재외국민|#향수병|#극복|#대한민국|#미국|#영국|#프랑스|#호주|#독...\n",
       "1     알제리  7874  #여행하면좋은것|#알제리|#알제|#노트르담성당가는길|#지중해|#여행|#여행에미치다|...\n",
       "2     안도라   758  #피레네산맥|#안도라|#스페인여행|#이서윤0814|#딸바보|#딸스타그램|#육아휴직|...\n",
       "3     앙골라  1065  #한국|#앙골라|#포르투갈|#코리안컵|#추첨선물|#우산|#골프공|#주말은대회|#즐겁...\n",
       "4  앤티가바부다    15  #카리브해|#앤티가바부다|#해변도시|#세인트존스|#모티브|#앤티가바부다|#너무사랑함..."
      ]
     },
     "execution_count": 83,
     "metadata": {},
     "output_type": "execute_result"
    }
   ],
   "source": [
    "df = pd.read_excel('20190125_1.xlsx')\n",
    "df = df.rename(columns={ 0:'국가', 1:'게시글'})\n",
    "df.head()"
   ]
  },
  {
   "cell_type": "code",
   "execution_count": 92,
   "metadata": {},
   "outputs": [
    {
     "data": {
      "text/plain": [
       "1236903"
      ]
     },
     "execution_count": 92,
     "metadata": {},
     "output_type": "execute_result"
    }
   ],
   "source": [
    "tmp = df.sort_values(by='게시글', ascending=False)[:20]\n",
    "tmp.reset_index(inplace=True)\n",
    "tmp[tmp['국가']=='스페인']['게시글'].values[0]"
   ]
  },
  {
   "cell_type": "code",
   "execution_count": 103,
   "metadata": {
    "scrolled": true
   },
   "outputs": [
    {
     "name": "stdout",
     "output_type": "stream",
     "text": [
      "자료없음\n"
     ]
    }
   ],
   "source": [
    "if not list(tmp[tmp['국가']=='asd'].index):\n",
    "    print('자료없음')"
   ]
  },
  {
   "cell_type": "code",
   "execution_count": null,
   "metadata": {},
   "outputs": [],
   "source": []
  }
 ],
 "metadata": {
  "kernelspec": {
   "display_name": "Python 3",
   "language": "python",
   "name": "python3"
  },
  "language_info": {
   "codemirror_mode": {
    "name": "ipython",
    "version": 3
   },
   "file_extension": ".py",
   "mimetype": "text/x-python",
   "name": "python",
   "nbconvert_exporter": "python",
   "pygments_lexer": "ipython3",
   "version": "3.7.1"
  }
 },
 "nbformat": 4,
 "nbformat_minor": 2
}
