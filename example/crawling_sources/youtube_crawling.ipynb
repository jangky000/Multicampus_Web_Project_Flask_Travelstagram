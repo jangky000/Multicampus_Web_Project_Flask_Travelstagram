{
 "cells": [
  {
   "cell_type": "code",
   "execution_count": 17,
   "metadata": {},
   "outputs": [],
   "source": [
    "from selenium import webdriver as wd\n",
    "import urllib"
   ]
  },
  {
   "cell_type": "code",
   "execution_count": 24,
   "metadata": {},
   "outputs": [
    {
     "data": {
      "text/plain": [
       "'https://www.youtube.com/results?sp=CAMSBAgFEAE%253D&search_query=%ED%94%84%EB%9E%91%EC%8A%A4%20%EC%97%AC%ED%96%89%20vlog'"
      ]
     },
     "execution_count": 24,
     "metadata": {},
     "output_type": "execute_result"
    }
   ],
   "source": [
    "\n",
    "url = 'https://www.youtube.com/results?sp=CAMSBAgFEAE%253D&search_query='\n",
    "# params = '?search_query=%s&sp=CAMSBAgFEAE%253D'\n",
    "keyword = urllib.parse.quote('프랑스 여행 vlog')\n",
    "f_url = url + keyword\n",
    "f_url"
   ]
  },
  {
   "cell_type": "code",
   "execution_count": 25,
   "metadata": {},
   "outputs": [],
   "source": [
    "driver = wd.Chrome('chromedriver.exe')\n"
   ]
  },
  {
   "cell_type": "code",
   "execution_count": 26,
   "metadata": {},
   "outputs": [],
   "source": [
    "driver.get( f_url )"
   ]
  },
  {
   "cell_type": "code",
   "execution_count": 12,
   "metadata": {},
   "outputs": [],
   "source": [
    "# 검색 결과를 최대치로 얻기 위해서  데이터를 더 불러오게 처리\n",
    "# 스크롤 이벤트를 발생시켜서 ajax를 구동하여 최대치로 가져온다.\n",
    "# execute_script: 자바스크립트를 실행 \n",
    "import time # 슬립을 걸기 위함\n",
    "for n in range(100):\n",
    "#     driver.execute_script('window.scrollBy(1, 1000)') # **** 유튜브에 사용하는 핵심 기법\n",
    "    time.sleep(1)"
   ]
  },
  {
   "cell_type": "code",
   "execution_count": 27,
   "metadata": {},
   "outputs": [
    {
     "data": {
      "text/plain": [
       "18"
      ]
     },
     "execution_count": 27,
     "metadata": {},
     "output_type": "execute_result"
    }
   ],
   "source": [
    "# ytd-video-renderer 요소의 총 개수가 검색 결과의 총수\n",
    "videos = driver.find_elements_by_tag_name('ytd-video-renderer')\n",
    "len( videos )"
   ]
  },
  {
   "cell_type": "code",
   "execution_count": 28,
   "metadata": {},
   "outputs": [
    {
     "name": "stdout",
     "output_type": "stream",
     "text": [
      "https://www.youtube.com/watch?v=vTVMF7E2fV4\n",
      "https://i.ytimg.com/vi/vTVMF7E2fV4/hqdefault.jpg?sqp=-oaymwEZCPYBEIoBSFXyq4qpAwsIARUAAIhCGAFwAQ==&rs=AOn4CLBhdpmQDFuiHt3ACnsiYW2OcK65jw\n",
      "프랑스 파리 먹방 여행 2탄 _ 맛난거 많이 먹쟈✨유럽 여행 브이로그 시리즈 ep.4 :D\n",
      "https://www.youtube.com/watch?v=Htyp8qx9yqE\n",
      "https://i.ytimg.com/vi/Htyp8qx9yqE/hqdefault.jpg?sqp=-oaymwEZCPYBEIoBSFXyq4qpAwsIARUAAIhCGAFwAQ==&rs=AOn4CLBjXhZStttOk_2QcV_VNvqJjBQkUQ\n",
      "최소 5배 돈 버는 방법? 서울보다 5배 싸게 파리 벼룩시장에서 명품 득템했어요! 골동품 하울 빈티지 쇼핑 꿀팁 프랑스 파리 여행 맛집 vlog 청담 언니 치유 브이로그\n",
      "https://www.youtube.com/watch?v=nqCn3z2ZwJw\n",
      "https://i.ytimg.com/vi/nqCn3z2ZwJw/hqdefault.jpg?sqp=-oaymwEZCPYBEIoBSFXyq4qpAwsIARUAAIhCGAFwAQ==&rs=AOn4CLD4qVFpOlEars3oebg8U49wJpQ6ug\n",
      "[여행vlog] 6박8일동안 프랑스,스위스,이탈리아여행하기!! _ 첫째날 파리 여행♥\n",
      "https://www.youtube.com/watch?v=rBugYOSrG8E\n",
      "https://i.ytimg.com/vi/rBugYOSrG8E/hqdefault.jpg?sqp=-oaymwEZCPYBEIoBSFXyq4qpAwsIARUAAIhCGAFwAQ==&rs=AOn4CLD1MkhVuYcYnxMlK8m8Q9IN5m2noQ\n",
      "[여행vlog] 이틀동안 파리+스위스 심지어 이탈리아까지 전부 갔다옴!! + 여행은 먹방이지🍕🥨\n",
      "https://www.youtube.com/watch?v=bfbbogTRWeQ\n",
      "https://i.ytimg.com/vi/bfbbogTRWeQ/hqdefault.jpg?sqp=-oaymwEZCPYBEIoBSFXyq4qpAwsIARUAAIhCGAFwAQ==&rs=AOn4CLDkunhP68fHDpamd2bxahKIqywbAw\n",
      "[여행vlog] 새벽4시부터 시작되는 이탈리아 일정!! 지중해휴양지+로마 대리만족 여행은 이거지!\n",
      "https://www.youtube.com/watch?v=a1mT_2NxMqU\n",
      "https://i.ytimg.com/vi/a1mT_2NxMqU/hqdefault.jpg?sqp=-oaymwEZCPYBEIoBSFXyq4qpAwsIARUAAIhCGAFwAQ==&rs=AOn4CLD_BWrn2b6OgahJjuM91HCUZlzB0g\n",
      "[여행vlog] 이탈리아갔으면 피사의사탑은 꼭 봐야지!! + 스파게티,젤라또,중식,로마!\n",
      "https://www.youtube.com/watch?v=SEGJ51FRnDY\n",
      "https://i.ytimg.com/vi/SEGJ51FRnDY/hqdefault.jpg?sqp=-oaymwEZCPYBEIoBSFXyq4qpAwsIARUAAIhCGAFwAQ==&rs=AOn4CLBLIpnlTAkZGVgNiNiL1TDchW60wA\n",
      "[유럽여행] 파리여행 vlog #2 - 베르사유궁전/ 샹젤리제거리 : 개선문, 루이비통 본점/ 에펠탑/ 바토무슈 / [EUROPE Travel] Paris trip vlog 2\n",
      "https://www.youtube.com/watch?v=1dBpYRU__GA\n",
      "https://i.ytimg.com/vi/1dBpYRU__GA/hqdefault.jpg?sqp=-oaymwEZCPYBEIoBSFXyq4qpAwsIARUAAIhCGAFwAQ==&rs=AOn4CLAWWJIcRmSx8TmdedADDFx8priVCw\n",
      "#19, 기억에 남을 프랑스 여행 브이로그/France Travelog (ENG SUB)\n",
      "https://www.youtube.com/watch?v=Ad__wmqW5ls\n",
      "https://i.ytimg.com/vi/Ad__wmqW5ls/hqdefault.jpg?sqp=-oaymwEZCPYBEIoBSFXyq4qpAwsIARUAAIhCGAFwAQ==&rs=AOn4CLBbt8d5h-0TAlArOQWtfpaWUBQH_A\n",
      "[유럽여행] 꿈같은 프랑스 파리 여행 브이로그 첫번째 ✨ / France Paris Trip Vlog 1\n",
      "https://www.youtube.com/watch?v=2iRrSB-Enbc\n",
      "https://i.ytimg.com/vi/2iRrSB-Enbc/hqdefault.jpg?sqp=-oaymwEZCPYBEIoBSFXyq4qpAwsIARUAAIhCGAFwAQ==&rs=AOn4CLALA6kqGPpW72zdDYHEk2trXgKhYQ\n",
      "세계일주 파리여행🗼 3편 : 오르세미술관 + 베르사유궁전 + 개선문 Vlog / HEYNEE\n"
     ]
    }
   ],
   "source": [
    "# 영상 주소 획득\n",
    "for v in videos[:10]:\n",
    "    print(v.find_element_by_id('thumbnail').get_attribute('href'))\n",
    "    print(v.find_element_by_id('img').get_attribute('src'))\n",
    "    print( v.find_element_by_id('video-title').text )\n",
    "    \n",
    "    \n",
    "# for v in driver.find_elements_by_id('thumbnail'):\n",
    "#     print(v.get_attribute('href'))"
   ]
  },
  {
   "cell_type": "code",
   "execution_count": null,
   "metadata": {},
   "outputs": [],
   "source": []
  }
 ],
 "metadata": {
  "kernelspec": {
   "display_name": "Python 3",
   "language": "python",
   "name": "python3"
  },
  "language_info": {
   "codemirror_mode": {
    "name": "ipython",
    "version": 3
   },
   "file_extension": ".py",
   "mimetype": "text/x-python",
   "name": "python",
   "nbconvert_exporter": "python",
   "pygments_lexer": "ipython3",
   "version": "3.7.1"
  }
 },
 "nbformat": 4,
 "nbformat_minor": 2
}
