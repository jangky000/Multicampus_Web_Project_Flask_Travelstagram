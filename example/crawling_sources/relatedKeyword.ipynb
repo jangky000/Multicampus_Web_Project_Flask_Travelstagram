{
 "cells": [
  {
   "cell_type": "code",
   "execution_count": 151,
   "metadata": {},
   "outputs": [],
   "source": [
    "from selenium import webdriver as wd\n",
    "# from selenium.webdriver.common.keys import Keys\n",
    "import urllib\n",
    "\n",
    "import pandas as pd\n",
    "import numpy as np"
   ]
  },
  {
   "cell_type": "code",
   "execution_count": 152,
   "metadata": {},
   "outputs": [
    {
     "data": {
      "text/plain": [
       "'http://www.stubbyplanner.com/'"
      ]
     },
     "execution_count": 152,
     "metadata": {},
     "output_type": "execute_result"
    }
   ],
   "source": [
    "url = 'http://www.stubbyplanner.com/'\n",
    "# https://www.aladin.co.kr/\n",
    "url"
   ]
  },
  {
   "cell_type": "code",
   "execution_count": 158,
   "metadata": {},
   "outputs": [],
   "source": [
    "driver = wd.Chrome('chromedriver.exe')"
   ]
  },
  {
   "cell_type": "code",
   "execution_count": 159,
   "metadata": {},
   "outputs": [],
   "source": [
    "driver.get( url )"
   ]
  },
  {
   "cell_type": "code",
   "execution_count": 160,
   "metadata": {},
   "outputs": [],
   "source": [
    "def crw( key ):\n",
    "    img = []\n",
    "    href = []\n",
    "    city = []\n",
    "\n",
    "    try:\n",
    "        icon = driver.find_element_by_css_selector('.gnb_search')\n",
    "        icon.click()\n",
    "\n",
    "        csearch = driver.find_element_by_css_selector('.md-search-input')\n",
    "        csearch.send_keys(key)\n",
    "\n",
    "        select = driver.find_element_by_css_selector('#body > section > div.md-container.pos-top2 > div.md-content > div:nth-child(1) > ul > li:nth-child(1) > a')\n",
    "        select.click()\n",
    "\n",
    "        button = driver.find_element_by_css_selector('body > div > main > section.stu_selectCity > div > div.btn_spot_toggle > button')\n",
    "        button.click()\n",
    "\n",
    "        for element in driver.find_elements_by_css_selector('div.img-wrap>img'):\n",
    "            img.append(element.get_attribute('src'))\n",
    "        for element2 in driver.find_elements_by_css_selector('section.stu_selectCity>div>div>ul>li>a'):\n",
    "            href.append(element2.get_attribute('href'))\n",
    "\n",
    "        for element3 in driver.find_elements_by_css_selector('div.txt-wrap > p'):\n",
    "            city.append(element3.text)\n",
    "\n",
    "    except Exception as e:\n",
    "        return img, href, city\n",
    "    else:\n",
    "        pass\n",
    "\n",
    "    return img, href, city"
   ]
  },
  {
   "cell_type": "code",
   "execution_count": 161,
   "metadata": {},
   "outputs": [],
   "source": [
    "data = pd.DataFrame()"
   ]
  },
  {
   "cell_type": "code",
   "execution_count": 162,
   "metadata": {},
   "outputs": [],
   "source": [
    "# img, href, city = crw('프랑스')\n",
    "# data['img']=img\n",
    "# data['href']=href\n",
    "# data['city']=city\n",
    "\n",
    "img, href, city = crw('독일')\n",
    "data['img2']=img\n",
    "data['href2']=href\n",
    "data['city2']=city"
   ]
  },
  {
   "cell_type": "code",
   "execution_count": 163,
   "metadata": {},
   "outputs": [
    {
     "data": {
      "text/html": [
       "<div>\n",
       "<style scoped>\n",
       "    .dataframe tbody tr th:only-of-type {\n",
       "        vertical-align: middle;\n",
       "    }\n",
       "\n",
       "    .dataframe tbody tr th {\n",
       "        vertical-align: top;\n",
       "    }\n",
       "\n",
       "    .dataframe thead th {\n",
       "        text-align: right;\n",
       "    }\n",
       "</style>\n",
       "<table border=\"1\" class=\"dataframe\">\n",
       "  <thead>\n",
       "    <tr style=\"text-align: right;\">\n",
       "      <th></th>\n",
       "      <th>img2</th>\n",
       "      <th>href2</th>\n",
       "      <th>city2</th>\n",
       "    </tr>\n",
       "  </thead>\n",
       "  <tbody>\n",
       "  </tbody>\n",
       "</table>\n",
       "</div>"
      ],
      "text/plain": [
       "Empty DataFrame\n",
       "Columns: [img2, href2, city2]\n",
       "Index: []"
      ]
     },
     "execution_count": 163,
     "metadata": {},
     "output_type": "execute_result"
    }
   ],
   "source": [
    "data"
   ]
  },
  {
   "cell_type": "code",
   "execution_count": null,
   "metadata": {},
   "outputs": [],
   "source": [
    "# 영상 주소 획득\n",
    "for v in videos[:10]:\n",
    "    print(v.find_element_by_id('thumbnail').get_attribute('href'))\n",
    "    print(v.find_element_by_id('img').get_attribute('src'))\n",
    "    print( v.find_element_by_id('video-title').text )\n",
    "    \n",
    "    \n",
    "# for v in driver.find_elements_by_id('thumbnail'):\n",
    "#     print(v.get_attribute('href'))"
   ]
  }
 ],
 "metadata": {
  "kernelspec": {
   "display_name": "Python 3",
   "language": "python",
   "name": "python3"
  },
  "language_info": {
   "codemirror_mode": {
    "name": "ipython",
    "version": 3
   },
   "file_extension": ".py",
   "mimetype": "text/x-python",
   "name": "python",
   "nbconvert_exporter": "python",
   "pygments_lexer": "ipython3",
   "version": "3.7.1"
  }
 },
 "nbformat": 4,
 "nbformat_minor": 2
}
