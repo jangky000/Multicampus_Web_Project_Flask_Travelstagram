{
 "cells": [
  {
   "cell_type": "code",
   "execution_count": 15,
   "metadata": {},
   "outputs": [],
   "source": [
    "import pandas as pd\n",
    "import numpy as np\n",
    "from selenium import webdriver as wd\n",
    "import urllib"
   ]
  },
  {
   "cell_type": "code",
   "execution_count": 45,
   "metadata": {},
   "outputs": [],
   "source": [
    "driver = wd.Chrome('chromedriver.exe')\n"
   ]
  },
  {
   "cell_type": "code",
   "execution_count": 17,
   "metadata": {},
   "outputs": [
    {
     "data": {
      "text/plain": [
       "'https://www.tripadvisor.co.kr/Search?geo=1&searchNearby=&pid=3826&redirect=&startTime=1548818336538&uiOrigin=MASTHEAD&q=%EC%9D%BC%EB%B3%B8&sid=8058B739B8F09F099E61B762107533C11548818581315&ssrc=g&rf=1'"
      ]
     },
     "execution_count": 17,
     "metadata": {},
     "output_type": "execute_result"
    }
   ],
   "source": [
    "url_base = 'https://www.tripadvisor.co.kr/Search?geo=1&searchNearby=&pid=3826&redirect=&startTime=1548818336538&uiOrigin=MASTHEAD&q='\n",
    "country = '일본'\n",
    "keyword = urllib.parse.quote('%s' %country)\n",
    "url_sub='&sid=8058B739B8F09F099E61B762107533C11548818581315&ssrc=g&rf=1'\n",
    "\n",
    "url=url_base+keyword+url_sub\n",
    "url"
   ]
  },
  {
   "cell_type": "code",
   "execution_count": 46,
   "metadata": {},
   "outputs": [],
   "source": [
    "driver.get(url )"
   ]
  },
  {
   "cell_type": "code",
   "execution_count": 43,
   "metadata": {},
   "outputs": [],
   "source": [
    "tcity = []\n",
    "tcount = []\n",
    "thref = []"
   ]
  },
  {
   "cell_type": "code",
   "execution_count": 47,
   "metadata": {},
   "outputs": [
    {
     "data": {
      "text/plain": [
       "(['삿포로', '도쿄', '교토', '오사카'],\n",
       " ['https://www.tripadvisor.co.kr/Search?q=%EC%82%BF%ED%8F%AC%EB%A1%9C',\n",
       "  'https://www.tripadvisor.co.kr/Search?q=%EB%8F%84%EC%BF%84',\n",
       "  'https://www.tripadvisor.co.kr/Search?q=%EA%B5%90%ED%86%A0',\n",
       "  'https://www.tripadvisor.co.kr/Search?q=%EC%98%A4%EC%82%AC%EC%B9%B4'])"
      ]
     },
     "execution_count": 47,
     "metadata": {},
     "output_type": "execute_result"
    }
   ],
   "source": [
    "for one in driver.find_elements_by_class_name('result-title>span'):\n",
    "    tcity.append(one.text)\n",
    "    thref_base = 'https://www.tripadvisor.co.kr/Search?q='\n",
    "    thref.append(href_base + urllib.parse.quote('%s' %one.text))\n",
    "tcity[1:5], thref[1:5]"
   ]
  },
  {
   "cell_type": "code",
   "execution_count": 48,
   "metadata": {},
   "outputs": [
    {
     "data": {
      "text/plain": [
       "['145,682개의 리뷰 또는 의견',\n",
       " '1,323,181개의 리뷰 또는 의견',\n",
       " '411,911개의 리뷰 또는 의견',\n",
       " '342,651개의 리뷰 또는 의견']"
      ]
     },
     "execution_count": 48,
     "metadata": {},
     "output_type": "execute_result"
    }
   ],
   "source": [
    "for one in driver.find_elements_by_class_name('review-count'):\n",
    "    tcount.append(one.text)\n",
    "tcount[1:5]"
   ]
  },
  {
   "cell_type": "code",
   "execution_count": 51,
   "metadata": {},
   "outputs": [
    {
     "data": {
      "text/html": [
       "<div>\n",
       "<style scoped>\n",
       "    .dataframe tbody tr th:only-of-type {\n",
       "        vertical-align: middle;\n",
       "    }\n",
       "\n",
       "    .dataframe tbody tr th {\n",
       "        vertical-align: top;\n",
       "    }\n",
       "\n",
       "    .dataframe thead th {\n",
       "        text-align: right;\n",
       "    }\n",
       "</style>\n",
       "<table border=\"1\" class=\"dataframe\">\n",
       "  <thead>\n",
       "    <tr style=\"text-align: right;\">\n",
       "      <th></th>\n",
       "      <th>tcity</th>\n",
       "      <th>tcount</th>\n",
       "      <th>thref</th>\n",
       "    </tr>\n",
       "  </thead>\n",
       "  <tbody>\n",
       "    <tr>\n",
       "      <th>0</th>\n",
       "      <td>삿포로</td>\n",
       "      <td>145,682개의 리뷰 또는 의견</td>\n",
       "      <td>https://www.tripadvisor.co.kr/Search?q=%EC%82%...</td>\n",
       "    </tr>\n",
       "    <tr>\n",
       "      <th>1</th>\n",
       "      <td>도쿄</td>\n",
       "      <td>1,323,181개의 리뷰 또는 의견</td>\n",
       "      <td>https://www.tripadvisor.co.kr/Search?q=%EB%8F%...</td>\n",
       "    </tr>\n",
       "    <tr>\n",
       "      <th>2</th>\n",
       "      <td>교토</td>\n",
       "      <td>411,911개의 리뷰 또는 의견</td>\n",
       "      <td>https://www.tripadvisor.co.kr/Search?q=%EA%B5%...</td>\n",
       "    </tr>\n",
       "    <tr>\n",
       "      <th>3</th>\n",
       "      <td>오사카</td>\n",
       "      <td>342,651개의 리뷰 또는 의견</td>\n",
       "      <td>https://www.tripadvisor.co.kr/Search?q=%EC%98%...</td>\n",
       "    </tr>\n",
       "  </tbody>\n",
       "</table>\n",
       "</div>"
      ],
      "text/plain": [
       "  tcity                tcount  \\\n",
       "0   삿포로    145,682개의 리뷰 또는 의견   \n",
       "1    도쿄  1,323,181개의 리뷰 또는 의견   \n",
       "2    교토    411,911개의 리뷰 또는 의견   \n",
       "3   오사카    342,651개의 리뷰 또는 의견   \n",
       "\n",
       "                                               thref  \n",
       "0  https://www.tripadvisor.co.kr/Search?q=%EC%82%...  \n",
       "1  https://www.tripadvisor.co.kr/Search?q=%EB%8F%...  \n",
       "2  https://www.tripadvisor.co.kr/Search?q=%EA%B5%...  \n",
       "3  https://www.tripadvisor.co.kr/Search?q=%EC%98%...  "
      ]
     },
     "execution_count": 51,
     "metadata": {},
     "output_type": "execute_result"
    }
   ],
   "source": [
    "trip = pd.DataFrame({ 'tcity':tcity[1:5], 'tcount':tcount[1:5], 'thref':thref[1:5] })\n",
    "trip"
   ]
  },
  {
   "cell_type": "code",
   "execution_count": 60,
   "metadata": {},
   "outputs": [
    {
     "name": "stdout",
     "output_type": "stream",
     "text": [
      "삿포로\n",
      "145,682개의 리뷰 또는 의견\n",
      "https://www.tripadvisor.co.kr/Search?q=%EC%82%BF%ED%8F%AC%EB%A1%9C\n",
      "도쿄\n",
      "1,323,181개의 리뷰 또는 의견\n",
      "https://www.tripadvisor.co.kr/Search?q=%EB%8F%84%EC%BF%84\n",
      "교토\n",
      "411,911개의 리뷰 또는 의견\n",
      "https://www.tripadvisor.co.kr/Search?q=%EA%B5%90%ED%86%A0\n",
      "오사카\n",
      "342,651개의 리뷰 또는 의견\n",
      "https://www.tripadvisor.co.kr/Search?q=%EC%98%A4%EC%82%AC%EC%B9%B4\n"
     ]
    }
   ],
   "source": [
    "for idx in range(len(trip)):\n",
    "#     print(col)\n",
    "    print(trip.iloc[idx]['tcity'])\n",
    "    print(trip.iloc[idx]['tcount'])\n",
    "    print(trip.iloc[idx]['thref'])"
   ]
  }
 ],
 "metadata": {
  "kernelspec": {
   "display_name": "Python 3",
   "language": "python",
   "name": "python3"
  },
  "language_info": {
   "codemirror_mode": {
    "name": "ipython",
    "version": 3
   },
   "file_extension": ".py",
   "mimetype": "text/x-python",
   "name": "python",
   "nbconvert_exporter": "python",
   "pygments_lexer": "ipython3",
   "version": "3.7.1"
  }
 },
 "nbformat": 4,
 "nbformat_minor": 2
}
