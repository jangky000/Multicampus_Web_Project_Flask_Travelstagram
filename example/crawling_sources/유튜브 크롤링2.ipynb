{
 "cells": [
  {
   "cell_type": "code",
   "execution_count": 1,
   "metadata": {},
   "outputs": [],
   "source": [
    "from selenium import webdriver as wd\n",
    "import urllib"
   ]
  },
  {
   "cell_type": "code",
   "execution_count": 11,
   "metadata": {},
   "outputs": [
    {
     "data": {
      "text/plain": [
       "'https://www.youtube.com/results?search_query=%ED%94%84%EB%9E%91%EC%8A%A4%20%EC%97%AC%ED%96%89%20vlog&sp=CAASBAgFEAE%253D'"
      ]
     },
     "execution_count": 11,
     "metadata": {},
     "output_type": "execute_result"
    }
   ],
   "source": [
    "url = 'https://www.youtube.com/results?search_query='\n",
    "country='프랑스'\n",
    "keyword = urllib.parse.quote('%s 여행 vlog' %country)\n",
    "sorting='&sp=CAASBAgFEAE%253D'\n",
    "f_url = url+keyword+sorting\n",
    "# params = '?search_query=%s&sp=CAMSBAgFEAE%253D'\n",
    "f_url"
   ]
  },
  {
   "cell_type": "code",
   "execution_count": 10,
   "metadata": {},
   "outputs": [],
   "source": [
    "driver = wd.Chrome('chromedriver.exe')\n"
   ]
  },
  {
   "cell_type": "code",
   "execution_count": 12,
   "metadata": {},
   "outputs": [],
   "source": [
    "driver.get( f_url )"
   ]
  },
  {
   "cell_type": "code",
   "execution_count": 12,
   "metadata": {},
   "outputs": [],
   "source": [
    "# 검색 결과를 최대치로 얻기 위해서  데이터를 더 불러오게 처리\n",
    "# 스크롤 이벤트를 발생시켜서 ajax를 구동하여 최대치로 가져온다.\n",
    "# execute_script: 자바스크립트를 실행 \n",
    "import time # 슬립을 걸기 위함\n",
    "for n in range(100):\n",
    "#     driver.execute_script('window.scrollBy(1, 1000)') # **** 유튜브에 사용하는 핵심 기법\n",
    "    time.sleep(1)"
   ]
  },
  {
   "cell_type": "code",
   "execution_count": 13,
   "metadata": {},
   "outputs": [
    {
     "data": {
      "text/plain": [
       "20"
      ]
     },
     "execution_count": 13,
     "metadata": {},
     "output_type": "execute_result"
    }
   ],
   "source": [
    "# ytd-video-renderer 요소의 총 개수가 검색 결과의 총수\n",
    "videos = driver.find_elements_by_tag_name('ytd-video-renderer')\n",
    "len( videos )"
   ]
  },
  {
   "cell_type": "code",
   "execution_count": 14,
   "metadata": {},
   "outputs": [
    {
     "name": "stdout",
     "output_type": "stream",
     "text": [
      "https://www.youtube.com/watch?v=nqCn3z2ZwJw\n",
      "https://i.ytimg.com/vi/nqCn3z2ZwJw/hqdefault.jpg?sqp=-oaymwEZCPYBEIoBSFXyq4qpAwsIARUAAIhCGAFwAQ==&rs=AOn4CLD4qVFpOlEars3oebg8U49wJpQ6ug\n",
      "[여행vlog] 6박8일동안 프랑스,스위스,이탈리아여행하기!! _ 첫째날 파리 여행♥\n",
      "https://www.youtube.com/watch?v=oAoOJYHNdKY\n",
      "https://i.ytimg.com/vi/oAoOJYHNdKY/hqdefault.jpg?sqp=-oaymwEZCPYBEIoBSFXyq4qpAwsIARUAAIhCGAFwAQ==&rs=AOn4CLDrtZuH4YXTsV9rKkhE5H264Sm0Aw\n",
      "[Eng] 이진이의 첫 프랑스 파리 여행 브이로그 : Paris, France VLOG\n",
      "https://www.youtube.com/watch?v=PBeTjh9OtF4\n",
      "https://i.ytimg.com/vi/PBeTjh9OtF4/hqdefault.jpg?sqp=-oaymwEZCPYBEIoBSFXyq4qpAwsIARUAAIhCGAFwAQ==&rs=AOn4CLB6XSdLkluBfyH1diPK2ZmSH3uWSw\n",
      "01. 🇫🇷 파리여행vlog - 파리맛집 공유할게요! 파리에 맛난거 너무많잖아요 ..ლ(´ڡ`ლ)\n",
      "https://www.youtube.com/watch?v=1dBpYRU__GA\n",
      "https://i.ytimg.com/vi/1dBpYRU__GA/hqdefault.jpg?sqp=-oaymwEZCPYBEIoBSFXyq4qpAwsIARUAAIhCGAFwAQ==&rs=AOn4CLAWWJIcRmSx8TmdedADDFx8priVCw\n",
      "#19, 기억에 남을 프랑스 여행 브이로그/France Travelog (ENG SUB)\n",
      "https://www.youtube.com/watch?v=Ad__wmqW5ls\n",
      "https://i.ytimg.com/vi/Ad__wmqW5ls/hqdefault.jpg?sqp=-oaymwEZCPYBEIoBSFXyq4qpAwsIARUAAIhCGAFwAQ==&rs=AOn4CLBbt8d5h-0TAlArOQWtfpaWUBQH_A\n",
      "[유럽여행] 꿈같은 프랑스 파리 여행 브이로그 첫번째 ✨ / France Paris Trip Vlog 1\n",
      "https://www.youtube.com/watch?v=4x4Dd6A3L40\n",
      "https://i.ytimg.com/vi/4x4Dd6A3L40/hqdefault.jpg?sqp=-oaymwEZCPYBEIoBSFXyq4qpAwsIARUAAIhCGAFwAQ==&rs=AOn4CLAbhC-yk28sJiaxIqY687e57OBWfQ\n",
      "여자혼자유럽 파리여행 브이로그 🇫🇷 Paris vlog\n",
      "https://www.youtube.com/watch?v=uQK49ge-tN8\n",
      "https://i.ytimg.com/vi/uQK49ge-tN8/hqdefault.jpg?sqp=-oaymwEZCPYBEIoBSFXyq4qpAwsIARUAAIhCGAFwAQ==&rs=AOn4CLDxeTxMQmVCP_kspCd1sTfFAbfSyQ\n",
      "VLOG 유럽여행 / 프랑스 파리 / 벼룩시장 / 빈티지샵\n",
      "https://www.youtube.com/watch?v=Hk2eTn0-Muc\n",
      "https://i.ytimg.com/vi/Hk2eTn0-Muc/hqdefault.jpg?sqp=-oaymwEZCPYBEIoBSFXyq4qpAwsIARUAAIhCGAFwAQ==&rs=AOn4CLALNP7pO7aU1Y0pS6YOpVe0UK4gww\n",
      "[여행VLOG] 다정이의 유럽여행♥️ (프랑스, 스위스, 이탈리아, 오스트리아, 독일)\n",
      "https://www.youtube.com/watch?v=tKUfV0wrFLA\n",
      "https://i.ytimg.com/vi/tKUfV0wrFLA/hqdefault.jpg?sqp=-oaymwEZCPYBEIoBSFXyq4qpAwsIARUAAIhCGAFwAQ==&rs=AOn4CLDm00TutHCViR9A8k57oZUP8aO3uQ\n",
      "유럽 여행 VLOG🌙 #7 마지막이야기 - 프랑스 파리 디즈니랜드 + 체코 프라하 + 헝가리 부다페스트\n",
      "https://www.youtube.com/watch?v=_rEGDI61I3A\n",
      "https://i.ytimg.com/vi/_rEGDI61I3A/hqdefault.jpg?sqp=-oaymwEZCPYBEIoBSFXyq4qpAwsIARUAAIhCGAFwAQ==&rs=AOn4CLBrUrm6hSMZz5W3fQXcN6KRUOiOKg\n",
      "[여행vlog] 프랑스 파리, 진짜 Avant 을 찾아라_혼자 파리에 가요\n"
     ]
    }
   ],
   "source": [
    "# 영상 주소 획득\n",
    "for v in videos[:10]:\n",
    "    print(v.find_element_by_id('thumbnail').get_attribute('href'))\n",
    "    print(v.find_element_by_id('img').get_attribute('src'))\n",
    "    print( v.find_element_by_id('video-title').text )\n",
    "    \n",
    "    \n",
    "# for v in driver.find_elements_by_id('thumbnail'):\n",
    "#     print(v.get_attribute('href'))"
   ]
  },
  {
   "cell_type": "code",
   "execution_count": null,
   "metadata": {},
   "outputs": [],
   "source": []
  }
 ],
 "metadata": {
  "kernelspec": {
   "display_name": "Python 3",
   "language": "python",
   "name": "python3"
  },
  "language_info": {
   "codemirror_mode": {
    "name": "ipython",
    "version": 3
   },
   "file_extension": ".py",
   "mimetype": "text/x-python",
   "name": "python",
   "nbconvert_exporter": "python",
   "pygments_lexer": "ipython3",
   "version": "3.7.1"
  }
 },
 "nbformat": 4,
 "nbformat_minor": 2
}
